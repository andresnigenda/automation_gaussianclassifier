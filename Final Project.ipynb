{
 "cells": [
  {
   "cell_type": "markdown",
   "metadata": {},
   "source": [
    "## Gaussian classifier code"
   ]
  },
  {
   "cell_type": "code",
   "execution_count": 5,
   "metadata": {},
   "outputs": [],
   "source": [
    "import numpy as np\n",
    "import matplotlib.pyplot as plt\n",
    "from matplotlib import cm\n",
    "from mpl_toolkits.mplot3d import Axes3D\n",
    "import tabula\n",
    "import pandas as pd\n",
    "from pandas import ExcelWriter\n",
    "from pandas import ExcelFile\n",
    "pd.options.display.max_rows = 999\n",
    "\n",
    "%load_ext autoreload\n",
    "%autoreload 2"
   ]
  },
  {
   "cell_type": "code",
   "execution_count": 6,
   "metadata": {},
   "outputs": [
    {
     "name": "stdout",
     "output_type": "stream",
     "text": [
      "Column headings:\n",
      "Index(['soc_code', 'Label', 'Probability', 'Occupation'], dtype='object')\n"
     ]
    }
   ],
   "source": [
    "# Read pdf into DataFrame\n",
    "full_df = tabula.read_pdf(\"Data/ONET_Data/future-of-employment.pdf\", pages=62, area = (262.80, 109.44, 749.52, 510.48), stream=True) #61-77'\n",
    "for n in range(63,78):\n",
    "    df = tabula.read_pdf(\"Data/ONET_Data/future-of-employment.pdf\", pages=str(n),area = (127.44, 109.44, 749.52, 510.48), stream=True) \n",
    "    full_df = full_df.append(df, ignore_index = True, sort=True) \n",
    "full_df = full_df.drop(full_df[full_df['Probability'].isnull()].index)\n",
    "full_df = full_df.rename(columns = {'soc code': 'soc_code'})\n",
    "full_df2 = full_df[[\"soc_code\", \"Label\", \"Probability\", \"Occupation\"]]\n",
    "print(\"Column headings:\")\n",
    "print(full_df2.columns)"
   ]
  },
  {
   "cell_type": "code",
   "execution_count": 7,
   "metadata": {},
   "outputs": [
    {
     "name": "stdout",
     "output_type": "stream",
     "text": [
      "Column headings:\n",
      "Index(['Category', 'Data_Value', 'Date', 'Domain_Source', 'Element_ID',\n",
      "       'Element_Name', 'Lower_CI_Bound', 'N', 'Not_Relevant', 'soc_code',\n",
      "       'Recommend_Suppress', 'Scale_ID', 'Scale_Name', 'Standard_Error',\n",
      "       'Title', 'Upper_CI_Bound', 'Assisting and Caring for Others',\n",
      "       'Persuasion', 'Negotiation', 'Social Perceptiveness', 'Fine Arts',\n",
      "       'Originality', 'Manual Dexterity', 'Finger Dexterity',\n",
      "       'Cramped Work Space, Awkward Positions'],\n",
      "      dtype='object')\n"
     ]
    },
    {
     "name": "stderr",
     "output_type": "stream",
     "text": [
      "/Library/Frameworks/Python.framework/Versions/3.7/lib/python3.7/site-packages/ipykernel_launcher.py:34: SettingWithCopyWarning: \n",
      "A value is trying to be set on a copy of a slice from a DataFrame.\n",
      "Try using .loc[row_indexer,col_indexer] = value instead\n",
      "\n",
      "See the caveats in the documentation: http://pandas.pydata.org/pandas-docs/stable/indexing.html#indexing-view-versus-copy\n"
     ]
    }
   ],
   "source": [
    "#Import excel files\n",
    "variables_df = pd.read_excel('Data/ONET_Data/Abilities.xlsx', sheet_name='Abilities')\n",
    "df2 = pd.read_excel('Data/ONET_Data/Skills.xlsx', sheet_name='Skills')\n",
    "df3 = pd.read_excel('Data/ONET_Data/Work Context.xlsx', sheet_name='Work Context')\n",
    "df4 = pd.read_excel('Data/ONET_Data/Knowledge.xlsx', sheet_name='Knowledge')\n",
    "df5 = pd.read_excel('Data/ONET_Data/Work Activities.xlsx', sheet_name='Work Activities')\n",
    "variables_df = variables_df.append(df2, ignore_index = True, sort=True) \n",
    "variables_df = variables_df.append(df3, ignore_index = True, sort=True) \n",
    "variables_df = variables_df.append(df4, ignore_index = True, sort=True) \n",
    "variables_df = variables_df.append(df5, ignore_index = True, sort=True) \n",
    "variables_df = variables_df.rename(columns = {'Data Value': 'Data_Value', 'Domain Source':'Domain_Source', \n",
    "        'Element ID':'Element_ID', 'Element Name': 'Element_Name', \"Lower CI Bound\": 'Lower_CI_Bound', \n",
    "         'Not Relevant': 'Not_Relevant', 'soc code':'soc_code', 'Recommend Suppress': 'Recommend_Suppress', \n",
    "        'Scale ID':'Scale_ID', 'Scale Name':'Scale_Name', 'Standard Error':'Standard_Error',\n",
    "        'Upper CI Bound': 'Upper_CI_Bound', 'O*NET-SOC Code': 'soc_code'})\n",
    "\n",
    "#Keep rows of 'Scale_Name'=='Level'\n",
    "variables_df['Scale_Name'] = variables_df.Scale_Name.apply(lambda x: 'Level' if x =='Context' else x ) \n",
    "variables_df = variables_df.drop(variables_df[variables_df['Scale_Name'] != \n",
    "                                             'Level'].index)\n",
    "\n",
    "#Create one column for each skill/knowledge\n",
    "skills = [\"Assisting and Caring for Others\", \"Persuasion\", \"Negotiation\", \"Social Perceptiveness\",\n",
    "\"Fine Arts\", \"Originality\", \"Manual Dexterity\", \"Finger Dexterity\", \"Cramped Work Space, Awkward Positions\"]\n",
    "for skill in skills:\n",
    "    coondition = (variables_df['Element_Name'] == skill)\n",
    "    df_cond = variables_df[coondition]\n",
    "    variables_df[skill] = np.NaN\n",
    "    variables_df.loc[coondition, skill] = variables_df.Data_Value\n",
    "variables_df2 = variables_df[[\"soc_code\", \"Assisting and Caring for Others\", \"Persuasion\", \"Negotiation\", \"Social Perceptiveness\",\n",
    "\"Fine Arts\", \"Originality\", \"Manual Dexterity\", \"Finger Dexterity\", \"Cramped Work Space, Awkward Positions\"]]\n",
    "\n",
    "#Group by broader codes of jobs\n",
    "variables_df2['soc_code'] = variables_df2.soc_code.apply(lambda x: x[:-3])\n",
    "variables_df2 = variables_df2.groupby(['soc_code']).mean().reset_index()\n",
    "print(\"Column headings:\")\n",
    "print(variables_df.columns)"
   ]
  },
  {
   "cell_type": "code",
   "execution_count": 9,
   "metadata": {
    "scrolled": false
   },
   "outputs": [
    {
     "data": {
      "text/html": [
       "<div>\n",
       "<style scoped>\n",
       "    .dataframe tbody tr th:only-of-type {\n",
       "        vertical-align: middle;\n",
       "    }\n",
       "\n",
       "    .dataframe tbody tr th {\n",
       "        vertical-align: top;\n",
       "    }\n",
       "\n",
       "    .dataframe thead th {\n",
       "        text-align: right;\n",
       "    }\n",
       "</style>\n",
       "<table border=\"1\" class=\"dataframe\">\n",
       "  <thead>\n",
       "    <tr style=\"text-align: right;\">\n",
       "      <th></th>\n",
       "      <th>Label</th>\n",
       "      <th>Probability</th>\n",
       "      <th>Assisting and Caring for Others</th>\n",
       "      <th>Persuasion</th>\n",
       "      <th>Negotiation</th>\n",
       "      <th>Social Perceptiveness</th>\n",
       "      <th>Fine Arts</th>\n",
       "      <th>Originality</th>\n",
       "      <th>Manual Dexterity</th>\n",
       "      <th>Finger Dexterity</th>\n",
       "      <th>Cramped Work Space, Awkward Positions</th>\n",
       "    </tr>\n",
       "  </thead>\n",
       "  <tbody>\n",
       "    <tr>\n",
       "      <th>count</th>\n",
       "      <td>70.000000</td>\n",
       "      <td>699.000000</td>\n",
       "      <td>682.000000</td>\n",
       "      <td>682.000000</td>\n",
       "      <td>682.000000</td>\n",
       "      <td>682.000000</td>\n",
       "      <td>682.000000</td>\n",
       "      <td>682.000000</td>\n",
       "      <td>682.000000</td>\n",
       "      <td>682.000000</td>\n",
       "      <td>682.000000</td>\n",
       "    </tr>\n",
       "    <tr>\n",
       "      <th>mean</th>\n",
       "      <td>0.528571</td>\n",
       "      <td>0.533599</td>\n",
       "      <td>2.823636</td>\n",
       "      <td>2.669837</td>\n",
       "      <td>2.469811</td>\n",
       "      <td>2.986144</td>\n",
       "      <td>0.590754</td>\n",
       "      <td>2.742785</td>\n",
       "      <td>2.225697</td>\n",
       "      <td>2.630561</td>\n",
       "      <td>2.098456</td>\n",
       "    </tr>\n",
       "    <tr>\n",
       "      <th>std</th>\n",
       "      <td>0.502787</td>\n",
       "      <td>0.367729</td>\n",
       "      <td>1.130040</td>\n",
       "      <td>0.706365</td>\n",
       "      <td>0.695295</td>\n",
       "      <td>0.665337</td>\n",
       "      <td>0.983377</td>\n",
       "      <td>0.776316</td>\n",
       "      <td>1.134924</td>\n",
       "      <td>0.752399</td>\n",
       "      <td>0.846031</td>\n",
       "    </tr>\n",
       "    <tr>\n",
       "      <th>min</th>\n",
       "      <td>0.000000</td>\n",
       "      <td>0.002800</td>\n",
       "      <td>0.270000</td>\n",
       "      <td>0.880000</td>\n",
       "      <td>0.830000</td>\n",
       "      <td>0.330000</td>\n",
       "      <td>0.000000</td>\n",
       "      <td>0.620000</td>\n",
       "      <td>0.000000</td>\n",
       "      <td>0.250000</td>\n",
       "      <td>1.000000</td>\n",
       "    </tr>\n",
       "    <tr>\n",
       "      <th>25%</th>\n",
       "      <td>0.000000</td>\n",
       "      <td>0.105000</td>\n",
       "      <td>2.040000</td>\n",
       "      <td>2.120000</td>\n",
       "      <td>2.000000</td>\n",
       "      <td>2.500000</td>\n",
       "      <td>0.080000</td>\n",
       "      <td>2.120000</td>\n",
       "      <td>1.500000</td>\n",
       "      <td>2.120000</td>\n",
       "      <td>1.411250</td>\n",
       "    </tr>\n",
       "    <tr>\n",
       "      <th>50%</th>\n",
       "      <td>1.000000</td>\n",
       "      <td>0.630000</td>\n",
       "      <td>2.572500</td>\n",
       "      <td>2.748333</td>\n",
       "      <td>2.380000</td>\n",
       "      <td>2.916667</td>\n",
       "      <td>0.260000</td>\n",
       "      <td>2.750000</td>\n",
       "      <td>2.620000</td>\n",
       "      <td>2.804167</td>\n",
       "      <td>1.860000</td>\n",
       "    </tr>\n",
       "    <tr>\n",
       "      <th>75%</th>\n",
       "      <td>1.000000</td>\n",
       "      <td>0.890000</td>\n",
       "      <td>3.297500</td>\n",
       "      <td>3.120000</td>\n",
       "      <td>3.000000</td>\n",
       "      <td>3.380000</td>\n",
       "      <td>0.597500</td>\n",
       "      <td>3.250000</td>\n",
       "      <td>3.120000</td>\n",
       "      <td>3.120000</td>\n",
       "      <td>2.677500</td>\n",
       "    </tr>\n",
       "    <tr>\n",
       "      <th>max</th>\n",
       "      <td>1.000000</td>\n",
       "      <td>0.990000</td>\n",
       "      <td>6.430000</td>\n",
       "      <td>4.620000</td>\n",
       "      <td>5.000000</td>\n",
       "      <td>5.880000</td>\n",
       "      <td>6.330000</td>\n",
       "      <td>5.500000</td>\n",
       "      <td>5.250000</td>\n",
       "      <td>5.120000</td>\n",
       "      <td>4.550000</td>\n",
       "    </tr>\n",
       "  </tbody>\n",
       "</table>\n",
       "</div>"
      ],
      "text/plain": [
       "           Label  Probability  Assisting and Caring for Others  Persuasion  \\\n",
       "count  70.000000   699.000000                       682.000000  682.000000   \n",
       "mean    0.528571     0.533599                         2.823636    2.669837   \n",
       "std     0.502787     0.367729                         1.130040    0.706365   \n",
       "min     0.000000     0.002800                         0.270000    0.880000   \n",
       "25%     0.000000     0.105000                         2.040000    2.120000   \n",
       "50%     1.000000     0.630000                         2.572500    2.748333   \n",
       "75%     1.000000     0.890000                         3.297500    3.120000   \n",
       "max     1.000000     0.990000                         6.430000    4.620000   \n",
       "\n",
       "       Negotiation  Social Perceptiveness   Fine Arts  Originality  \\\n",
       "count   682.000000             682.000000  682.000000   682.000000   \n",
       "mean      2.469811               2.986144    0.590754     2.742785   \n",
       "std       0.695295               0.665337    0.983377     0.776316   \n",
       "min       0.830000               0.330000    0.000000     0.620000   \n",
       "25%       2.000000               2.500000    0.080000     2.120000   \n",
       "50%       2.380000               2.916667    0.260000     2.750000   \n",
       "75%       3.000000               3.380000    0.597500     3.250000   \n",
       "max       5.000000               5.880000    6.330000     5.500000   \n",
       "\n",
       "       Manual Dexterity  Finger Dexterity  \\\n",
       "count        682.000000        682.000000   \n",
       "mean           2.225697          2.630561   \n",
       "std            1.134924          0.752399   \n",
       "min            0.000000          0.250000   \n",
       "25%            1.500000          2.120000   \n",
       "50%            2.620000          2.804167   \n",
       "75%            3.120000          3.120000   \n",
       "max            5.250000          5.120000   \n",
       "\n",
       "       Cramped Work Space, Awkward Positions  \n",
       "count                             682.000000  \n",
       "mean                                2.098456  \n",
       "std                                 0.846031  \n",
       "min                                 1.000000  \n",
       "25%                                 1.411250  \n",
       "50%                                 1.860000  \n",
       "75%                                 2.677500  \n",
       "max                                 4.550000  "
      ]
     },
     "execution_count": 9,
     "metadata": {},
     "output_type": "execute_result"
    }
   ],
   "source": [
    "#Join variables data frame (coming from excel files) with labels (from the PDF)\n",
    "data = full_df2.join(variables_df2.set_index('soc_code'), on='soc_code')\n",
    "\n",
    "data.describe()"
   ]
  },
  {
   "cell_type": "code",
   "execution_count": null,
   "metadata": {},
   "outputs": [],
   "source": []
  },
  {
   "cell_type": "code",
   "execution_count": 24,
   "metadata": {},
   "outputs": [
    {
     "name": "stdout",
     "output_type": "stream",
     "text": [
      "(17, 9)\n",
      "(53, 9)\n",
      "(53, 1)\n"
     ]
    }
   ],
   "source": [
    "#Slit into training, testing, label and unlabeled data\n",
    "labeled_data = data[data.Label.notnull()]\n",
    "unlabeled_data = data[data.Label.isnull()]\n",
    "\n",
    "msk = np.random.rand(len(labeled_data)) < 0.8\n",
    "train_data = labeled_data[msk]\n",
    "test_data = labeled_data[~msk]\n",
    "    \n",
    "    \n",
    "X_train = train_data[[\"Assisting and Caring for Others\", \"Persuasion\", \"Negotiation\", \"Social Perceptiveness\",\n",
    "\"Fine Arts\", \"Originality\", \"Manual Dexterity\", \"Finger Dexterity\", \"Cramped Work Space, Awkward Positions\"]].values\n",
    "Y_train = train_data[[\"Label\"]].values\n",
    "\n",
    "X_test = test_data[[\"Assisting and Caring for Others\", \"Persuasion\", \"Negotiation\", \"Social Perceptiveness\",\n",
    "\"Fine Arts\", \"Originality\", \"Manual Dexterity\", \"Finger Dexterity\", \"Cramped Work Space, Awkward Positions\"]].values\n",
    "Y_test = test_data[[\"Label\"]].values\n",
    "\n",
    "print(X_test.shape)\n",
    "print(X_train.shape)\n",
    "print(Y_train.shape)"
   ]
  },
  {
   "cell_type": "code",
   "execution_count": 83,
   "metadata": {},
   "outputs": [],
   "source": [
    "# Finite number of points\n",
    "# Example: X = np.arange(-5, 5, 0.2).reshape(-1, 1)\n",
    "X = X_train.reshape(-1, 1)\n",
    "X = np.nan_to_num(X) \n",
    "#X.dropna(inplace=True)\n",
    "# Mean and covariance of the prior\n",
    "mu = np.zeros(X.shape)\n",
    "#mu =  X.mean(axis=0) \n",
    "cov = gaussian_kernel(X, X, 1, 1)"
   ]
  },
  {
   "cell_type": "code",
   "execution_count": 116,
   "metadata": {},
   "outputs": [],
   "source": [
    "def gaussian_kernel(x_i, x_j, l, s):\n",
    "    '''\n",
    "    Compute gaussian kernel\n",
    "    \n",
    "    Inputs:\n",
    "        - X: numpy array (m * p)\n",
    "        - X: numpy array (n * p)\n",
    "        - l: smoothness parameter\n",
    "        - s: sigma parameter\n",
    "    '''\n",
    "    # (a - b)^2 = a^2 - 2ab + b^2    \n",
    "    sq_dist = np.sum(x_i**2, 1).reshape(-1, 1) + np.sum(x_j**2, 1) - 2 * np.dot(x_i, x_j.T)\n",
    "    kernel = s ** 2 * np.exp(-0.5 / l ** 2 * sq_dist)\n",
    "    \n",
    "    return kernel\n",
    "\n",
    "def plot_gp(mu, cov, X, X_train=None, Y_train=None, samples=[]):\n",
    "    X = X.ravel()\n",
    "    mu = mu.ravel()\n",
    "    uncertainty = 1.96 * np.sqrt(np.diag(cov))\n",
    "    \n",
    "    plt.fill_between(X, mu + uncertainty, mu - uncertainty, alpha=0.1)\n",
    "    plt.plot(X, mu, label='Mean')\n",
    "    for i, sample in enumerate(samples):\n",
    "        plt.plot(X, sample, lw=1, ls='--', label=f'Sample {i+1}')\n",
    "    if X_train is not None:\n",
    "        plt.plot(X_train, Y_train, 'rx')\n",
    "    plt.legend()"
   ]
  },
  {
   "cell_type": "code",
   "execution_count": 89,
   "metadata": {},
   "outputs": [
    {
     "data": {
      "image/png": "[encoded data removed]",
      "text/plain": [
       "<Figure size 432x288 with 1 Axes>"
      ]
     },
     "metadata": {
      "needs_background": "light"
     },
     "output_type": "display_data"
    }
   ],
   "source": [
    "# Draw three samples from the prior\n",
    "samples = np.random.multivariate_normal(mu.ravel(), cov, 3)\n",
    "\n",
    "# Plot GP mean, confidence interval and samples \n",
    "plot_gp(mu, cov, X, samples=samples)"
   ]
  },
  {
   "cell_type": "code",
   "execution_count": 106,
   "metadata": {},
   "outputs": [
    {
     "name": "stdout",
     "output_type": "stream",
     "text": [
      "(54, 9)\n",
      "(54, 1)\n",
      "(13, 9)\n",
      "(13, 1)\n"
     ]
    }
   ],
   "source": [
    "# data\n",
    "labeled_data = data[data.Label.notnull()].dropna()\n",
    "unlabeled_data = data[data.Label.isnull()]\n",
    "\n",
    "msk = np.random.rand(len(labeled_data)) < 0.8\n",
    "train_data = labeled_data[msk]\n",
    "test_data = labeled_data[~msk]\n",
    "\n",
    "train_data = train_data\n",
    "X_train = train_data[[\"Assisting and Caring for Others\", \"Persuasion\", \"Negotiation\", \"Social Perceptiveness\",\n",
    "\"Fine Arts\", \"Originality\", \"Manual Dexterity\", \"Finger Dexterity\", \"Cramped Work Space, Awkward Positions\"]].values\n",
    "Y_train = train_data[[\"Label\"]].values\n",
    "test_data = test_data\n",
    "X_test = test_data[[\"Assisting and Caring for Others\", \"Persuasion\", \"Negotiation\", \"Social Perceptiveness\",\n",
    "\"Fine Arts\", \"Originality\", \"Manual Dexterity\", \"Finger Dexterity\", \"Cramped Work Space, Awkward Positions\"]].values\n",
    "Y_test = test_data[[\"Label\"]].values\n",
    "\n",
    "print(X_train.shape)\n",
    "print(Y_train.shape)\n",
    "print(X_test.shape)\n",
    "print(Y_test.shape)"
   ]
  },
  {
   "cell_type": "markdown",
   "metadata": {},
   "source": [
    "#### Gaussian classifier"
   ]
  },
  {
   "cell_type": "markdown",
   "metadata": {},
   "source": [
    "$$ k(x_{i}, x_{j}) = \\sigma^{2}_{f}exp(-\\frac{1}{2l^2}(x_i - x_j)^T(x_i - x_j))$$"
   ]
  },
  {
   "cell_type": "code",
   "execution_count": 93,
   "metadata": {},
   "outputs": [],
   "source": [
    "from scipy.stats import multivariate_normal\n",
    "from sklearn.metrics import accuracy_score\n",
    "\n",
    "class GaussianClassifier:\n",
    "    \"\"\"\n",
    "    Gaussian Classifier\n",
    "    \"\"\"\n",
    "    def train(self, X, y):\n",
    "        # class conditional classifier\n",
    "        mask_0 = y == 0\n",
    "        mask_1 = y == 1\n",
    "        self.mean_0 = np.average(X[mask_0.ravel()], axis = 0)\n",
    "        self.mean_1 = np.average(X[mask_1.ravel()], axis = 0)\n",
    "        self.sigma_0 = np.cov(X[mask_0.ravel()], rowvar=False)\n",
    "        self.sigma_1 = np.cov(X[mask_1.ravel()], rowvar=False)\n",
    "        \n",
    "        # class prior\n",
    "        self.pi_0 = y[mask_0.ravel()].shape[0] / y.shape[0]\n",
    "        self.pi_1 = 1.0 - self.pi_0\n",
    "        \n",
    "        # multivariate class-conditional density function\n",
    "        self.prob_0 = multivariate_normal(self.mean_0, self.sigma_0, allow_singular=True)\n",
    "        self.prob_1 = multivariate_normal(self.mean_1, self.sigma_0, allow_singular=True)\n",
    "        \n",
    "    def predict(self, X):\n",
    "        preds = []\n",
    "        for x_input in X:\n",
    "            # class posterior (ignoring denominator in Bayes)\n",
    "            if self.prob_0.pdf(x_input) * self.pi_0 > self.prob_1.pdf(x_input) * self.pi_1:\n",
    "                preds.append(0)\n",
    "            else:\n",
    "                preds.append(1)\n",
    "                \n",
    "        return np.array(preds)\n",
    "        \n",
    "        "
   ]
  },
  {
   "cell_type": "code",
   "execution_count": 135,
   "metadata": {},
   "outputs": [
    {
     "name": "stdout",
     "output_type": "stream",
     "text": [
      "Final accuracy rate using all 9 features is 0.8461538461538461\n"
     ]
    }
   ],
   "source": [
    "clf = GaussianClassifier()\n",
    "clf.train(X_train, Y_train)\n",
    "\n",
    "y_pred_test = clf.predict(X_test)\n",
    "\n",
    "print(\"Final accuracy rate using all 9 features with the Gaussian Classifier is {}\".format(accuracy_score(Y_test, y_pred_test)))"
   ]
  },
  {
   "cell_type": "markdown",
   "metadata": {},
   "source": [
    "#### Linear classifier"
   ]
  },
  {
   "cell_type": "code",
   "execution_count": 136,
   "metadata": {},
   "outputs": [
    {
     "name": "stdout",
     "output_type": "stream",
     "text": [
      "Final accuracy rate using all 9 features with the Linear Classifier is 0.6923076923076923\n"
     ]
    }
   ],
   "source": [
    "def calculate_parameters_and_errors(x_train, y_train, x_test, y_test):\n",
    "\n",
    "    parameters = np.linalg.inv(np.dot(x_train.T, x_train)).dot(x_train.T).dot(y_train)\n",
    "    Y_prediction = x_test.dot(parameters)\n",
    "    Y_prediction = [1 if i>0.5 else 0 for i in Y_prediction ]\n",
    "    error = y_test.reshape(-1) - Y_prediction\n",
    "    error = np.absolute(error)\n",
    "    percent_error = np.sum(error)/error.shape[0]\n",
    "    accuracy = (1 - percent_error)\n",
    "    return(accuracy, parameters)\n",
    "\n",
    "accuracy, parameters = calculate_parameters_and_errors(X_train, Y_train, X_test, Y_test)\n",
    "print(\"Final accuracy rate using all 9 features with the Linear Classifier is {}\".format(accuracy))"
   ]
  },
  {
   "cell_type": "markdown",
   "metadata": {},
   "source": []
  }
 ],
 "metadata": {
  "kernelspec": {
   "display_name": "Python 3",
   "language": "python",
   "name": "python3"
  },
  "language_info": {
   "codemirror_mode": {
    "name": "ipython",
    "version": 3
   },
   "file_extension": ".py",
   "mimetype": "text/x-python",
   "name": "python",
   "nbconvert_exporter": "python",
   "pygments_lexer": "ipython3",
   "version": "3.7.3"
  }
 },
 "nbformat": 4,
 "nbformat_minor": 2
}
